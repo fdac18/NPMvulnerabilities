{
 "cells": [
  {
   "cell_type": "code",
   "execution_count": 7,
   "metadata": {},
   "outputs": [],
   "source": [
    "import gzip, json\n",
    "with gzip.open('/data/NPMvulnerabilities/NPMPackages.json.gz', 'rb') as f:\n",
    "    fc = f.read().decode(\"utf-8\")\n",
    "from json import JSONDecoder, JSONDecodeError\n",
    "import re\n",
    "\n",
    "NOT_WHITESPACE = re.compile(r'[^\\s]')\n",
    "\n",
    "def decode_stacked(document, pos=0, decoder=JSONDecoder()):\n",
    "    while True:\n",
    "        match = NOT_WHITESPACE.search(document, pos)\n",
    "        if not match:\n",
    "            return\n",
    "        pos = match.start()\n",
    "\n",
    "        try:\n",
    "            obj, pos = decoder.raw_decode(document, pos)\n",
    "        except JSONDecodeError:\n",
    "            # do something sensible if there's some error\n",
    "            print(\"DECODE_STACKED() FAILED\")\n",
    "            pass\n",
    "        yield obj"
   ]
  },
  {
   "cell_type": "code",
   "execution_count": 9,
   "metadata": {},
   "outputs": [],
   "source": [
    "for obj in decode_stacked(fc):\n",
    "    ind = 0\n",
    "    try: versions = list(obj['versions'].keys())\n",
    "    except: continue\n",
    "    try: release_dates = obj['time']\n",
    "    except: continue\n",
    "    info = {key: {'release_date': release_dates[key]} for key in release_dates if key not in ['created', 'modified']}\n",
    "    for key in versions:\n",
    "        try:\n",
    "            info[key]['dependencies'] = list(obj['versions'][key]['dependencies'].keys())\n",
    "            if pkg in info[key]['dependencies']: ind = 1\n",
    "        except: continue\n",
    "    if ind :\n",
    "        dependent[pkg].append({obj['name']: info})"
   ]
  },
  {
   "cell_type": "code",
   "execution_count": null,
   "metadata": {},
   "outputs": [],
   "source": [
    "for k in dependent.keys():\n",
    "    if k == 'ajv-keywords':\n",
    "        print(k, dependent[k][0])\n",
    "        break"
   ]
  },
  {
   "cell_type": "code",
   "execution_count": null,
   "metadata": {},
   "outputs": [],
   "source": [
    "#user-info\n",
    "#    pji\n",
    "#        version 1.0\n",
    "#        date\n",
    "#        \n",
    "#        version 1.1\n",
    "#        date\n",
    "#    gifnoc\n",
    "#        version\n",
    "#        date\n",
    "        "
   ]
  },
  {
   "cell_type": "code",
   "execution_count": 35,
   "metadata": {},
   "outputs": [],
   "source": [
    "#pkgs = ['htmlnano', 'object.map', 'babylon-walk', 'wix-style-react', 'threads', 'minimist-options', 'lead', '@babel/polyfill', '@babel/helper-define-map', 'cloudscraper']\n",
    "pkgs = ['ajv-keywords']   \n",
    "dependent = {}\n",
    "for pkg in pkgs:\n",
    "    dependent[pkg] = []\n",
    "    for obj in decode_stacked(fc):\n",
    "        ind = 0\n",
    "        try: versions = list(obj['versions'].keys())\n",
    "        except: continue\n",
    "        try: release_dates = obj['time']\n",
    "        except: continue\n",
    "        info = {key: {'release_date': release_dates[key]} for key in release_dates if key not in ['created', 'modified']}\n",
    "        for key in versions:\n",
    "            try:\n",
    "                info[key]['dependencies'] = list(obj['versions'][key]['dependencies'].keys())\n",
    "                if pkg in info[key]['dependencies']: ind = 1\n",
    "            except: continue\n",
    "        if ind :\n",
    "            dependent[pkg].append({obj['name']})"
   ]
  },
  {
   "cell_type": "code",
   "execution_count": 36,
   "metadata": {},
   "outputs": [
    {
     "name": "stdout",
     "output_type": "stream",
     "text": [
      "ajv-keywords [{'jsonscript-proxy'}, {'senasaikou-yeoman'}, {'webpack-egoist'}, {'alex-d.js'}, {'advanced-image-loader'}, {'webpack-addons-ylvis'}, {'primeng-custom'}, {'jicli'}, {'@lgeiger/electron-builder'}, {'@touched/map-tool-project'}, {'generator-arc'}, {'node-private-tools'}, {'fhir2'}, {'webpack-ie8'}, {'mocoolka-tools'}, {'misstep'}, {'@cysonius/schema-utils'}, {'ng2-dnd-kokatsuna'}, {'qweb-client'}, {'@johnf/electron-builder'}]\n",
      "len =  157\n"
     ]
    }
   ],
   "source": [
    "for k in dependent.keys():\n",
    "    if k == 'ajv-keywords':\n",
    "        print(k, dependent[k][:20])\n",
    "        print(\"len = \", len(dependent[k]))\n",
    "        break"
   ]
  },
  {
   "cell_type": "code",
   "execution_count": null,
   "metadata": {},
   "outputs": [],
   "source": [
    "#ajv-keywords\n",
    "    #jsconscript-proxy\n",
    "    #senasaikou-yeoman\n",
    "    #webpack-egoist\n",
    "#user-info\n",
    "    #ajv-keywords\n",
    "        "
   ]
  },
  {
   "cell_type": "code",
   "execution_count": 38,
   "metadata": {},
   "outputs": [
    {
     "name": "stdout",
     "output_type": "stream",
     "text": [
      "ajv-keywords [{'jsonscript-proxy'}, {'senasaikou-yeoman'}, {'webpack-egoist'}, {'alex-d.js'}, {'advanced-image-loader'}, {'webpack-addons-ylvis'}, {'primeng-custom'}, {'jicli'}, {'@lgeiger/electron-builder'}, {'@touched/map-tool-project'}, {'generator-arc'}, {'node-private-tools'}, {'fhir2'}, {'webpack-ie8'}, {'mocoolka-tools'}, {'misstep'}, {'@cysonius/schema-utils'}, {'ng2-dnd-kokatsuna'}, {'qweb-client'}, {'@johnf/electron-builder'}]\n",
      "len =  157\n"
     ]
    }
   ],
   "source": [
    "for k in dependent.keys():\n",
    "    print(k, dependent[k][:20])\n",
    "    print(\"len = \", len(dependent[k]))\n",
    "    break"
   ]
  },
  {
   "cell_type": "code",
   "execution_count": 100,
   "metadata": {},
   "outputs": [
    {
     "name": "stdout",
     "output_type": "stream",
     "text": [
      "1\n",
      "{'ajv-keywords': [{'end': '2015-03-08', 'downloads': 0, 'start': '2015-03-01'}, {'end': '2015-03-16', 'downloads': 0, 'start': '2015-03-09'}, {'end': '2015-03-24', 'downloads': 0, 'start': '2015-03-17'}, {'end': '2015-04-01', 'downloads': 0, 'start': '2015-03-25'}, {'end': '2015-04-09', 'downloads': 0, 'start': '2015-04-02'}, {'end': '2015-04-17', 'downloads': 0, 'start': '2015-04-10'}, {'end': '2015-04-25', 'downloads': 0, 'start': '2015-04-18'}, {'end': '2015-05-03', 'downloads': 0, 'start': '2015-04-26'}, {'end': '2015-05-11', 'downloads': 0, 'start': '2015-05-04'}, {'end': '2015-05-19', 'downloads': 0, 'start': '2015-05-12'}, {'end': '2015-05-27', 'downloads': 0, 'start': '2015-05-20'}, {'end': '2015-06-04', 'downloads': 0, 'start': '2015-05-28'}, {'end': '2015-06-12', 'downloads': 0, 'start': '2015-06-05'}, {'end': '2015-06-20', 'downloads': 0, 'start': '2015-06-13'}, {'end': '2015-06-28', 'downloads': 0, 'start': '2015-06-21'}, {'end': '2015-07-06', 'downloads': 0, 'start': '2015-06-29'}, {'end': '2015-07-14', 'downloads': 0, 'start': '2015-07-07'}, {'end': '2015-07-22', 'downloads': 0, 'start': '2015-07-15'}, {'end': '2015-07-30', 'downloads': 0, 'start': '2015-07-23'}, {'end': '2015-08-07', 'downloads': 0, 'start': '2015-07-31'}, {'end': '2015-08-15', 'downloads': 0, 'start': '2015-08-08'}, {'end': '2015-08-23', 'downloads': 0, 'start': '2015-08-16'}, {'end': '2015-08-31', 'downloads': 0, 'start': '2015-08-24'}, {'end': '2015-09-08', 'downloads': 0, 'start': '2015-09-01'}, {'end': '2015-09-16', 'downloads': 0, 'start': '2015-09-09'}, {'end': '2015-09-24', 'downloads': 0, 'start': '2015-09-17'}, {'end': '2015-10-02', 'downloads': 0, 'start': '2015-09-25'}, {'end': '2015-10-10', 'downloads': 0, 'start': '2015-10-03'}, {'end': '2015-10-18', 'downloads': 0, 'start': '2015-10-11'}, {'end': '2015-10-26', 'downloads': 0, 'start': '2015-10-19'}, {'end': '2015-11-03', 'downloads': 0, 'start': '2015-10-27'}, {'end': '2015-11-11', 'downloads': 0, 'start': '2015-11-04'}, {'end': '2015-11-19', 'downloads': 0, 'start': '2015-11-12'}, {'end': '2015-11-27', 'downloads': 0, 'start': '2015-11-20'}, {'end': '2015-12-05', 'downloads': 0, 'start': '2015-11-28'}, {'end': '2015-12-13', 'downloads': 0, 'start': '2015-12-06'}, {'end': '2015-12-21', 'downloads': 0, 'start': '2015-12-14'}, {'end': '2015-12-29', 'downloads': 0, 'start': '2015-12-22'}, {'end': '2016-01-06', 'downloads': 0, 'start': '2015-12-30'}, {'end': '2016-01-14', 'downloads': 0, 'start': '2016-01-07'}, {'end': '2016-01-22', 'downloads': 0, 'start': '2016-01-15'}, {'end': '2016-01-30', 'downloads': 0, 'start': '2016-01-23'}, {'end': '2016-02-07', 'downloads': 0, 'start': '2016-01-31'}, {'end': '2016-02-15', 'downloads': 0, 'start': '2016-02-08'}, {'end': '2016-02-23', 'downloads': 0, 'start': '2016-02-16'}, {'end': '2016-03-02', 'downloads': 0, 'start': '2016-02-24'}, {'end': '2016-03-10', 'downloads': 0, 'start': '2016-03-03'}, {'end': '2016-03-18', 'downloads': 0, 'start': '2016-03-11'}, {'end': '2016-03-26', 'downloads': 0, 'start': '2016-03-19'}, {'end': '2016-04-03', 'downloads': 0, 'start': '2016-03-27'}, {'end': '2016-04-11', 'downloads': 0, 'start': '2016-04-04'}, {'end': '2016-04-19', 'downloads': 0, 'start': '2016-04-12'}, {'end': '2016-04-27', 'downloads': 0, 'start': '2016-04-20'}, {'end': '2016-05-05', 'downloads': 0, 'start': '2016-04-28'}, {'end': '2016-05-13', 'downloads': 0, 'start': '2016-05-06'}, {'end': '2016-05-21', 'downloads': 0, 'start': '2016-05-14'}, {'end': '2016-05-29', 'downloads': 0, 'start': '2016-05-22'}, {'end': '2016-06-06', 'downloads': 74, 'start': '2016-05-30'}, {'end': '2016-06-14', 'downloads': 67, 'start': '2016-06-07'}, {'end': '2016-06-22', 'downloads': 24, 'start': '2016-06-15'}, {'end': '2016-06-30', 'downloads': 15, 'start': '2016-06-23'}, {'end': '2016-07-08', 'downloads': 37, 'start': '2016-07-01'}, {'end': '2016-07-16', 'downloads': 4, 'start': '2016-07-09'}, {'end': '2016-07-24', 'downloads': 10, 'start': '2016-07-17'}, {'end': '2016-08-01', 'downloads': 3, 'start': '2016-07-25'}, {'end': '2016-08-09', 'downloads': 5, 'start': '2016-08-02'}, {'end': '2016-08-17', 'downloads': 27, 'start': '2016-08-10'}, {'end': '2016-08-25', 'downloads': 13, 'start': '2016-08-18'}, {'end': '2016-09-02', 'downloads': 9, 'start': '2016-08-26'}, {'end': '2016-09-10', 'downloads': 14, 'start': '2016-09-03'}, {'end': '2016-09-18', 'downloads': 43658, 'start': '2016-09-11'}, {'end': '2016-09-26', 'downloads': 660892, 'start': '2016-09-19'}, {'end': '2016-10-04', 'downloads': 672010, 'start': '2016-09-27'}, {'end': '2016-10-12', 'downloads': 618657, 'start': '2016-10-05'}, {'end': '2016-10-20', 'downloads': 719931, 'start': '2016-10-13'}, {'end': '2016-10-28', 'downloads': 697553, 'start': '2016-10-21'}, {'end': '2016-11-05', 'downloads': 672419, 'start': '2016-10-29'}, {'end': '2016-11-13', 'downloads': 662118, 'start': '2016-11-06'}, {'end': '2016-11-21', 'downloads': 845538, 'start': '2016-11-14'}, {'end': '2016-11-29', 'downloads': 784727, 'start': '2016-11-22'}, {'end': '2016-12-07', 'downloads': 947584, 'start': '2016-11-30'}, {'end': '2016-12-15', 'downloads': 975962, 'start': '2016-12-08'}, {'end': '2016-12-23', 'downloads': 858000, 'start': '2016-12-16'}, {'end': '2016-12-31', 'downloads': 536402, 'start': '2016-12-24'}, {'end': '2017-01-08', 'downloads': 802813, 'start': '2017-01-01'}, {'end': '2017-01-16', 'downloads': 1087448, 'start': '2017-01-09'}, {'end': '2017-01-24', 'downloads': 1196924, 'start': '2017-01-17'}, {'end': '2017-02-01', 'downloads': 1231201, 'start': '2017-01-25'}, {'end': '2017-02-09', 'downloads': 1330293, 'start': '2017-02-02'}, {'end': '2017-02-17', 'downloads': 1329359, 'start': '2017-02-10'}, {'end': '2017-02-25', 'downloads': 1219163, 'start': '2017-02-18'}, {'end': '2017-03-05', 'downloads': 1370401, 'start': '2017-02-26'}, {'end': '2017-03-13', 'downloads': 1551830, 'start': '2017-03-06'}, {'end': '2017-03-21', 'downloads': 1594321, 'start': '2017-03-14'}, {'end': '2017-03-29', 'downloads': 1659158, 'start': '2017-03-22'}, {'end': '2017-04-06', 'downloads': 1642126, 'start': '2017-03-30'}, {'end': '2017-04-14', 'downloads': 1582403, 'start': '2017-04-07'}, {'end': '2017-04-22', 'downloads': 1391275, 'start': '2017-04-15'}, {'end': '2017-04-30', 'downloads': 1591995, 'start': '2017-04-23'}, {'end': '2017-05-08', 'downloads': 1653030, 'start': '2017-05-01'}, {'end': '2017-05-16', 'downloads': 1793474, 'start': '2017-05-09'}, {'end': '2017-05-24', 'downloads': 1786384, 'start': '2017-05-17'}, {'end': '2017-06-01', 'downloads': 1693551, 'start': '2017-05-25'}, {'end': '2017-06-09', 'downloads': 1870540, 'start': '2017-06-02'}, {'end': '2017-06-17', 'downloads': 1705171, 'start': '2017-06-10'}, {'end': '2017-06-25', 'downloads': 1885984, 'start': '2017-06-18'}, {'end': '2017-07-03', 'downloads': 2094525, 'start': '2017-06-26'}, {'end': '2017-07-11', 'downloads': 2132625, 'start': '2017-07-04'}, {'end': '2017-07-19', 'downloads': 2320525, 'start': '2017-07-12'}, {'end': '2017-07-27', 'downloads': 2430002, 'start': '2017-07-20'}, {'end': '2017-08-04', 'downloads': 2236942, 'start': '2017-07-28'}, {'end': '2017-08-12', 'downloads': 2226254, 'start': '2017-08-05'}, {'end': '2017-08-20', 'downloads': 2244390, 'start': '2017-08-13'}, {'end': '2017-08-28', 'downloads': 2597058, 'start': '2017-08-21'}, {'end': '2017-09-05', 'downloads': 2655734, 'start': '2017-08-29'}, {'end': '2017-09-13', 'downloads': 3018901, 'start': '2017-09-06'}, {'end': '2017-09-21', 'downloads': 3055581, 'start': '2017-09-14'}, {'end': '2017-09-29', 'downloads': 3098115, 'start': '2017-09-22'}, {'end': '2017-10-07', 'downloads': 2822638, 'start': '2017-09-30'}, {'end': '2017-10-15', 'downloads': 2924676, 'start': '2017-10-08'}, {'end': '2017-10-23', 'downloads': 3398577, 'start': '2017-10-16'}, {'end': '2017-10-31', 'downloads': 3644299, 'start': '2017-10-24'}, {'end': '2017-11-08', 'downloads': 3772303, 'start': '2017-11-01'}, {'end': '2017-11-16', 'downloads': 3780827, 'start': '2017-11-09'}, {'end': '2017-11-24', 'downloads': 3336250, 'start': '2017-11-17'}, {'end': '2017-12-02', 'downloads': 3285088, 'start': '2017-11-25'}, {'end': '2017-12-10', 'downloads': 3273941, 'start': '2017-12-03'}, {'end': '2017-12-18', 'downloads': 3648781, 'start': '2017-12-11'}, {'end': '2017-12-26', 'downloads': 2941248, 'start': '2017-12-19'}, {'end': '2018-01-03', 'downloads': 2491924, 'start': '2017-12-27'}, {'end': '2018-01-11', 'downloads': 3565823, 'start': '2018-01-04'}, {'end': '2018-01-19', 'downloads': 3691067, 'start': '2018-01-12'}, {'end': '2018-01-27', 'downloads': 3459425, 'start': '2018-01-20'}, {'end': '2018-02-04', 'downloads': 3606940, 'start': '2018-01-28'}, {'end': '2018-02-12', 'downloads': 4171664, 'start': '2018-02-05'}, {'end': '2018-02-20', 'downloads': 4709997, 'start': '2018-02-13'}, {'end': '2018-02-28', 'downloads': 5104644, 'start': '2018-02-21'}, {'end': '2018-03-08', 'downloads': 5354663, 'start': '2018-03-01'}, {'end': '2018-03-16', 'downloads': 5347689, 'start': '2018-03-09'}, {'end': '2018-03-24', 'downloads': 4996386, 'start': '2018-03-17'}, {'end': '2018-04-01', 'downloads': 4751741, 'start': '2018-03-25'}, {'end': '2018-04-09', 'downloads': 5309028, 'start': '2018-04-02'}, {'end': '2018-04-17', 'downloads': 5777256, 'start': '2018-04-10'}, {'end': '2018-04-25', 'downloads': 5829636, 'start': '2018-04-18'}, {'end': '2018-05-03', 'downloads': 5706536, 'start': '2018-04-26'}, {'end': '2018-05-11', 'downloads': 5954982, 'start': '2018-05-04'}, {'end': '2018-05-19', 'downloads': 5790117, 'start': '2018-05-12'}, {'end': '2018-05-27', 'downloads': 5462805, 'start': '2018-05-20'}, {'end': '2018-06-04', 'downloads': 2169529, 'start': '2018-05-28'}, {'end': '2018-06-12', 'downloads': 6689668, 'start': '2018-06-05'}, {'end': '2018-06-20', 'downloads': 6680399, 'start': '2018-06-13'}, {'end': '2018-06-28', 'downloads': 6901118, 'start': '2018-06-21'}, {'end': '2018-07-06', 'downloads': 6150026, 'start': '2018-06-29'}, {'end': '2018-07-14', 'downloads': 6064850, 'start': '2018-07-07'}, {'end': '2018-07-22', 'downloads': 5907637, 'start': '2018-07-15'}, {'end': '2018-07-30', 'downloads': 6829618, 'start': '2018-07-23'}, {'end': '2018-08-07', 'downloads': 6022824, 'start': '2018-07-31'}, {'end': '2018-08-15', 'downloads': 6810587, 'start': '2018-08-08'}, {'end': '2018-08-23', 'downloads': 7014377, 'start': '2018-08-16'}, {'end': '2018-08-31', 'downloads': 5811463, 'start': '2018-08-24'}, {'end': '2018-09-08', 'downloads': 6033281, 'start': '2018-09-01'}, {'end': '2018-09-16', 'downloads': 5652924, 'start': '2018-09-09'}, {'end': '2018-09-24', 'downloads': 6374941, 'start': '2018-09-17'}, {'end': '2018-10-01', 'downloads': 7062775, 'start': '2018-09-25'}]}\n"
     ]
    }
   ],
   "source": [
    "import time, requests, sys, pymongo, json, datetime\n",
    "\n",
    "\n",
    "start_date = datetime.datetime(2015, 3, 1)\n",
    "delta = datetime.timedelta(days=7)\n",
    "end_date = start_date + delta\n",
    "dt_range = []\n",
    "final_date = datetime.datetime(2018, 10, 1)\n",
    "\n",
    "while start_date < final_date:\n",
    "    if end_date > final_date : end_date = final_date\n",
    "    dt_range.append((start_date.strftime('%Y-%m-%d'), end_date.strftime('%Y-%m-%d')))\n",
    "    start_date = end_date + datetime.timedelta(days=1)\n",
    "    end_date = start_date + delta\n",
    "\n",
    "\n",
    "# get data\n",
    "base_url = 'https://api.npmjs.org/downloads/point/'\n",
    "l = len(pkgs)\n",
    "print(l)\n",
    "for pkg in pkgs:\n",
    "    dl = []\n",
    "    for r in dt_range:\n",
    "        url = base_url+r[0]+':'+r[1]+'/'+pkg\n",
    "        try: r = requests.get(url)\n",
    "        except: print('Timeout '+ pkg+'\\n')\n",
    "        \n",
    "        try:\n",
    "            result = r.content\n",
    "            try:\n",
    "                rj = json.loads(result.decode('utf-8', errors='ignore'))\n",
    "                rj.pop('package', None)\n",
    "                dl = dl + [rj]\n",
    "            except: print('DecodeError '+ pkg+'\\n')\n",
    "        except: print('BadURL '+ pkg+'\\n')\n",
    "    \n",
    "    ent = {pkg: dl}\n",
    "    print(ent)"
   ]
  },
  {
   "cell_type": "code",
   "execution_count": null,
   "metadata": {},
   "outputs": [],
   "source": []
  },
  {
   "cell_type": "code",
   "execution_count": null,
   "metadata": {},
   "outputs": [],
   "source": []
  }
 ],
 "metadata": {
  "kernelspec": {
   "display_name": "Python 3",
   "language": "python",
   "name": "python3"
  },
  "language_info": {
   "codemirror_mode": {
    "name": "ipython",
    "version": 3
   },
   "file_extension": ".py",
   "mimetype": "text/x-python",
   "name": "python",
   "nbconvert_exporter": "python",
   "pygments_lexer": "ipython3",
   "version": "3.5.2"
  }
 },
 "nbformat": 4,
 "nbformat_minor": 2
}
